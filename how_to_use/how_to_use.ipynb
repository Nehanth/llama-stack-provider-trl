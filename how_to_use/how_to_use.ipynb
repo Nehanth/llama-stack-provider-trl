{
 "cells": [
  {
   "cell_type": "code",
   "execution_count": 1,
   "metadata": {},
   "outputs": [],
   "source": [
    "import requests\n",
    "\n",
    "base_url = \"http://127.0.0.1:8321\"\n",
    "\n",
    "headers_get = {\n",
    "    \"accept\": \"application/json\"\n",
    "}\n",
    "\n",
    "headers_post = {\n",
    "    \"Content-Type\": \"application/json\"\n",
    "}"
   ]
  },
  {
   "cell_type": "code",
   "execution_count": 8,
   "metadata": {},
   "outputs": [
    {
     "name": "stdout",
     "output_type": "stream",
     "text": [
      "{'data': [{'api': 'post_training', 'provider_id': 'trl', 'provider_type': 'inline::trl', 'config': {'device': 'cpu', 'dpo_beta': 0.1, 'use_reference_model': True, 'max_seq_length': 2048, 'gradient_checkpointing': False, 'logging_steps': 10, 'warmup_ratio': 0.1, 'weight_decay': 0.01}, 'health': {'status': 'Not Implemented', 'message': 'Provider does not implement health check'}}, {'api': 'datasetio', 'provider_id': 'localfs', 'provider_type': 'inline::localfs', 'config': {'kvstore': {'type': 'sqlite', 'db_path': '/tmp/llama_stack_provider_trl/datasetio.db'}}, 'health': {'status': 'Not Implemented', 'message': 'Provider does not implement health check'}}]}\n"
     ]
    }
   ],
   "source": [
    "# Get the list of providers\n",
    "\n",
    "url_providers = f\"{base_url}/v1/providers\"\n",
    "response_providers = requests.get(url_providers, headers=headers_get)\n",
    "\n",
    "print(response_providers.json())"
   ]
  },
  {
   "cell_type": "code",
   "execution_count": 9,
   "metadata": {},
   "outputs": [
    {
     "name": "stdout",
     "output_type": "stream",
     "text": [
      "{'data': [{'identifier': 'test-dpo-dataset-inline-large', 'provider_resource_id': 'test-dpo-dataset-inline-large', 'provider_id': 'localfs', 'type': 'dataset', 'purpose': 'post-training/messages', 'source': {'type': 'rows', 'rows': [{'prompt': 'What is machine learning?', 'chosen': 'Machine learning is a branch of artificial intelligence that enables computers to learn from data and improve their performance on specific tasks without being explicitly programmed. It uses algorithms to find patterns in data and make predictions or decisions.', 'rejected': 'Machine learning is just computers doing math stuff with data.'}, {'prompt': 'Write a hello world program', 'chosen': 'Here is a simple hello world program in Python:\\n\\n```python\\nprint(\"Hello, World!\")\\n```', 'rejected': 'print hello world'}, {'prompt': 'Explain the concept of fine-tuning', 'chosen': 'Fine-tuning is the process of taking a pre-trained model and further training it on a specific dataset to adapt it for a particular task or domain while leveraging its existing knowledge. This approach is more efficient than training from scratch.', 'rejected': 'Fine-tuning means making a model better by training it more.'}]}, 'metadata': {'provider_id': 'localfs', 'description': 'Inline DPO preference training dataset'}}]}\n"
     ]
    }
   ],
   "source": [
    "# List of datasets - we currently have:\n",
    "\n",
    "url_datasets = f\"{base_url}/v1/datasets\"\n",
    "response_datasets = requests.get(url_datasets, headers=headers_get)\n",
    "\n",
    "print(response_datasets.json())"
   ]
  },
  {
   "cell_type": "code",
   "execution_count": 9,
   "metadata": {},
   "outputs": [
    {
     "name": "stdout",
     "output_type": "stream",
     "text": [
      "Dataset Upload Status: 200\n",
      "Dataset Upload Response: {'identifier': 'test-dpo-dataset-inline-large', 'provider_resource_id': 'test-dpo-dataset-inline-large', 'provider_id': 'localfs', 'type': 'dataset', 'owner': {'principal': '', 'attributes': {}}, 'purpose': 'post-training/messages', 'source': {'type': 'rows', 'rows': [{'prompt': 'What is machine learning?', 'chosen': 'Machine learning is a branch of artificial intelligence that enables computers to learn from data and improve their performance on specific tasks without being explicitly programmed. It uses algorithms to find patterns in data and make predictions or decisions.', 'rejected': 'Machine learning is just computers doing math stuff with data.'}, {'prompt': 'Write a hello world program', 'chosen': 'Here is a simple hello world program in Python:\\n\\n```python\\nprint(\"Hello, World!\")\\n```', 'rejected': 'print hello world'}, {'prompt': 'Explain the concept of fine-tuning', 'chosen': 'Fine-tuning is the process of taking a pre-trained model and further training it on a specific dataset to adapt it for a particular task or domain while leveraging its existing knowledge. This approach is more efficient than training from scratch.', 'rejected': 'Fine-tuning means making a model better by training it more.'}]}, 'metadata': {'provider_id': 'localfs', 'description': 'Inline DPO preference training dataset'}}\n"
     ]
    }
   ],
   "source": [
    "# Upload DPO Dataset\n",
    "\n",
    "url_upload_dataset = f\"{base_url}/v1/datasets\"\n",
    "\n",
    "dataset_payload = {\n",
    "    \"dataset_id\": \"test-dpo-dataset-inline-large\",\n",
    "    \"purpose\": \"post-training/messages\",\n",
    "    \"dataset_type\": \"preference\",\n",
    "    \"source\": {\n",
    "        \"type\": \"rows\",\n",
    "        \"rows\": [\n",
    "            {\n",
    "                \"prompt\": \"What is machine learning?\",\n",
    "                \"chosen\": \"Machine learning is a branch of artificial intelligence that enables computers to learn from data and improve their performance on specific tasks without being explicitly programmed. It uses algorithms to find patterns in data and make predictions or decisions.\",\n",
    "                \"rejected\": \"Machine learning is just computers doing math stuff with data.\"\n",
    "            },\n",
    "            {\n",
    "                \"prompt\": \"Write a hello world program\",\n",
    "                \"chosen\": \"Here is a simple hello world program in Python:\\n\\n```python\\nprint(\\\"Hello, World!\\\")\\n```\",\n",
    "                \"rejected\": \"print hello world\"\n",
    "            },\n",
    "            {\n",
    "                \"prompt\": \"Explain the concept of fine-tuning\",\n",
    "                \"chosen\": \"Fine-tuning is the process of taking a pre-trained model and further training it on a specific dataset to adapt it for a particular task or domain while leveraging its existing knowledge. This approach is more efficient than training from scratch.\",\n",
    "                \"rejected\": \"Fine-tuning means making a model better by training it more.\"\n",
    "            }\n",
    "        ]\n",
    "    },\n",
    "    \"metadata\": {\n",
    "        \"provider_id\": \"localfs\",\n",
    "        \"description\": \"Inline DPO preference training dataset\"\n",
    "    }\n",
    "}\n",
    "\n",
    "response_dataset = requests.post(url_upload_dataset, headers=headers_post, json=dataset_payload)\n",
    "print(\"Dataset Upload Status:\", response_dataset.status_code)\n",
    "print(\"Dataset Upload Response:\", response_dataset.json())"
   ]
  },
  {
   "cell_type": "code",
   "execution_count": 10,
   "metadata": {},
   "outputs": [
    {
     "name": "stdout",
     "output_type": "stream",
     "text": [
      "{'data': [{'identifier': 'test-dpo-dataset-inline-large', 'provider_resource_id': 'test-dpo-dataset-inline-large', 'provider_id': 'localfs', 'type': 'dataset', 'purpose': 'post-training/messages', 'source': {'type': 'rows', 'rows': [{'prompt': 'What is machine learning?', 'chosen': 'Machine learning is a branch of artificial intelligence that enables computers to learn from data and improve their performance on specific tasks without being explicitly programmed. It uses algorithms to find patterns in data and make predictions or decisions.', 'rejected': 'Machine learning is just computers doing math stuff with data.'}, {'prompt': 'Write a hello world program', 'chosen': 'Here is a simple hello world program in Python:\\n\\n```python\\nprint(\"Hello, World!\")\\n```', 'rejected': 'print hello world'}, {'prompt': 'Explain the concept of fine-tuning', 'chosen': 'Fine-tuning is the process of taking a pre-trained model and further training it on a specific dataset to adapt it for a particular task or domain while leveraging its existing knowledge. This approach is more efficient than training from scratch.', 'rejected': 'Fine-tuning means making a model better by training it more.'}]}, 'metadata': {'provider_id': 'localfs', 'description': 'Inline DPO preference training dataset'}}]}\n"
     ]
    }
   ],
   "source": [
    "# List of datasets after uploading\n",
    "\n",
    "url_datasets = f\"{base_url}/v1/datasets\"\n",
    "response_datasets = requests.get(url_datasets, headers=headers_get)\n",
    "\n",
    "print(response_datasets.json())"
   ]
  },
  {
   "cell_type": "code",
   "execution_count": null,
   "metadata": {},
   "outputs": [
    {
     "name": "stdout",
     "output_type": "stream",
     "text": [
      "Train Model Status: 400\n",
      "Train Model Response: {'detail': 'Invalid value: Job dpo-training-ibm-granite-3.3-2b already exists'}\n"
     ]
    }
   ],
   "source": [
    "# Train a model using DPO\n",
    "\n",
    "url_train_model = f\"{base_url}/v1/post-training/preference-optimize\"\n",
    "\n",
    "train_model_data = {\n",
    "    \"job_uuid\": \"dpo-training-ibm-granite-3.3-2b-\",\n",
    "    \"model\": \"ibm-granite/granite-3.3-2b-base\", # \"Larger = ibm-granite/granite-3.3-2b-base\" \"Smaller (Quick) = distilgpt2\"\n",
    "    \"finetuned_model\": \"dpo-ibm-granite-3.3-2b\",\n",
    "    \"checkpoint_dir\": \"./checkpoints\",\n",
    "    \"algorithm_config\": {\n",
    "        \"type\": \"dpo\", \n",
    "        \"reward_scale\": 1.0, \n",
    "        \"reward_clip\": 5.0, \n",
    "        \"epsilon\": 0.1,\n",
    "        \"gamma\": 0.99 \n",
    "    },\n",
    "    \"training_config\": {    \n",
    "        \"n_epochs\": 3,\n",
    "        \"max_steps_per_epoch\": 50,\n",
    "        \"learning_rate\": 1e-4,\n",
    "        \"warmup_steps\": 0,\n",
    "        \"lr_scheduler_type\": \"constant\",\n",
    "        \"data_config\": {\n",
    "            \"dataset_id\": \"test-dpo-dataset-inline-large\",\n",
    "            \"batch_size\": 2,\n",
    "            \"shuffle\": True,\n",
    "            \"data_format\": \"instruct\",\n",
    "            \"train_split_percentage\": 0.8\n",
    "        }\n",
    "    },\n",
    "    \"hyperparam_search_config\": {},\n",
    "    \"logger_config\": {}\n",
    "}\n",
    "\n",
    "response_train_model = requests.post(url_train_model, headers=headers_post, json=train_model_data)\n",
    "print(\"Train Model Status:\", response_train_model.status_code)\n",
    "print(\"Train Model Response:\", response_train_model.json())"
   ]
  },
  {
   "cell_type": "code",
   "execution_count": 5,
   "metadata": {},
   "outputs": [
    {
     "name": "stdout",
     "output_type": "stream",
     "text": [
      "{'data': []}\n"
     ]
    }
   ],
   "source": [
    "# Get All Post-Training Jobs\n",
    "\n",
    "url_post_training_jobs = f\"{base_url}/v1/post-training/jobs\"\n",
    "response_post_training_jobs = requests.get(url_post_training_jobs, headers=headers_get)\n",
    "\n",
    "print(response_post_training_jobs.json())"
   ]
  },
  {
   "cell_type": "code",
   "execution_count": 24,
   "metadata": {},
   "outputs": [
    {
     "name": "stdout",
     "output_type": "stream",
     "text": [
      "Job Status: 200\n",
      "Job Status Response: {'job_uuid': 'dpo-training-ibm-granite-3.3-2b', 'status': 'in_progress', 'scheduled_at': '2025-06-10T15:53:05.236927Z', 'started_at': '2025-06-10T15:53:05.237398Z', 'completed_at': None, 'resources_allocated': None, 'checkpoints': []}\n"
     ]
    }
   ],
   "source": [
    "# Get a specific post-training job\n",
    "\n",
    "job_uuid = \"dpo-training-ibm-granite-3.3-2b\"\n",
    "url_job_status = f\"{base_url}/v1/post-training/job/status?job_uuid={job_uuid}\"\n",
    "\n",
    "response_job_status = requests.get(url_job_status, headers=headers_get)\n",
    "\n",
    "print(\"Job Status:\", response_job_status.status_code)\n",
    "print(\"Job Status Response:\", response_job_status.json())"
   ]
  },
  {
   "cell_type": "code",
   "execution_count": 16,
   "metadata": {},
   "outputs": [
    {
     "name": "stdout",
     "output_type": "stream",
     "text": [
      "Job Artifacts Status: 200\n",
      "Job Artifacts Response: {'job_uuid': 'dpo-training-distilgpt2', 'checkpoints': [{'identifier': 'distilgpt2-dpo-3', 'created_at': '2025-06-10T15:46:28.641460Z', 'epoch': 3, 'post_training_job_id': 'dpo-training-distilgpt2', 'path': 'checkpoints/dpo_model', 'training_metrics': None}]}\n"
     ]
    }
   ],
   "source": [
    "# Get the artifacts of a post-training job\n",
    "\n",
    "url_job_artifacts = f\"{base_url}/v1/post-training/job/artifacts?job_uuid={job_uuid}\"\n",
    "response_job_artifacts = requests.get(url_job_artifacts, headers=headers_get)\n",
    "\n",
    "print(\"Job Artifacts Status:\", response_job_artifacts.status_code)\n",
    "print(\"Job Artifacts Response:\", response_job_artifacts.json())"
   ]
  }
 ],
 "metadata": {
  "kernelspec": {
   "display_name": ".venv",
   "language": "python",
   "name": "python3"
  },
  "language_info": {
   "codemirror_mode": {
    "name": "ipython",
    "version": 3
   },
   "file_extension": ".py",
   "mimetype": "text/x-python",
   "name": "python",
   "nbconvert_exporter": "python",
   "pygments_lexer": "ipython3",
   "version": "3.10.16"
  }
 },
 "nbformat": 4,
 "nbformat_minor": 2
}
